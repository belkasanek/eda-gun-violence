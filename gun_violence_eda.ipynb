{
 "cells": [
  {
   "cell_type": "code",
   "execution_count": 1,
   "metadata": {
    "collapsed": true,
    "deletable": true,
    "editable": true
   },
   "outputs": [],
   "source": [
    "import numpy as np\n",
    "import pandas as pd\n",
    "import matplotlib.pyplot as plt\n",
    "import os\n",
    "import seaborn as sns\n",
    "import chardet\n",
    "from datetime import datetime\n",
    "import time\n",
    "\n",
    "%matplotlib inline"
   ]
  },
  {
   "cell_type": "code",
   "execution_count": 2,
   "metadata": {
    "collapsed": false,
    "deletable": true,
    "editable": true
   },
   "outputs": [],
   "source": [
    "plt.rcParams['figure.figsize'] = (14, 8)"
   ]
  },
  {
   "cell_type": "code",
   "execution_count": 3,
   "metadata": {
    "collapsed": false,
    "deletable": true,
    "editable": true
   },
   "outputs": [
    {
     "data": {
      "text/plain": [
       "['gun_violence_eda.ipynb',\n",
       " '.ipynb_checkpoints',\n",
       " 'gun-violence-data_01-2013_03-2018.csv',\n",
       " '.git']"
      ]
     },
     "execution_count": 3,
     "metadata": {},
     "output_type": "execute_result"
    }
   ],
   "source": [
    "os.listdir('.')"
   ]
  },
  {
   "cell_type": "code",
   "execution_count": 4,
   "metadata": {
    "collapsed": false,
    "deletable": true,
    "editable": true
   },
   "outputs": [
    {
     "name": "stdout",
     "output_type": "stream",
     "text": [
      "{'encoding': 'utf-8', 'language': '', 'confidence': 0.99}\n"
     ]
    }
   ],
   "source": [
    "# check what the character encoding might be\n",
    "with open('gun-violence-data_01-2013_03-2018.csv', 'rb') as rawdata:\n",
    "    result = chardet.detect(rawdata.read(100000))\n",
    "\n",
    "print(result)"
   ]
  },
  {
   "cell_type": "code",
   "execution_count": 5,
   "metadata": {
    "collapsed": false,
    "deletable": true,
    "editable": true
   },
   "outputs": [
    {
     "data": {
      "text/html": [
       "<div>\n",
       "<style scoped>\n",
       "    .dataframe tbody tr th:only-of-type {\n",
       "        vertical-align: middle;\n",
       "    }\n",
       "\n",
       "    .dataframe tbody tr th {\n",
       "        vertical-align: top;\n",
       "    }\n",
       "\n",
       "    .dataframe thead th {\n",
       "        text-align: right;\n",
       "    }\n",
       "</style>\n",
       "<table border=\"1\" class=\"dataframe\">\n",
       "  <thead>\n",
       "    <tr style=\"text-align: right;\">\n",
       "      <th></th>\n",
       "      <th>date</th>\n",
       "      <th>state</th>\n",
       "      <th>city_or_county</th>\n",
       "      <th>address</th>\n",
       "      <th>n_killed</th>\n",
       "      <th>n_injured</th>\n",
       "      <th>incident_url</th>\n",
       "      <th>source_url</th>\n",
       "      <th>incident_url_fields_missing</th>\n",
       "      <th>congressional_district</th>\n",
       "      <th>...</th>\n",
       "      <th>participant_age</th>\n",
       "      <th>participant_age_group</th>\n",
       "      <th>participant_gender</th>\n",
       "      <th>participant_name</th>\n",
       "      <th>participant_relationship</th>\n",
       "      <th>participant_status</th>\n",
       "      <th>participant_type</th>\n",
       "      <th>sources</th>\n",
       "      <th>state_house_district</th>\n",
       "      <th>state_senate_district</th>\n",
       "    </tr>\n",
       "    <tr>\n",
       "      <th>incident_id</th>\n",
       "      <th></th>\n",
       "      <th></th>\n",
       "      <th></th>\n",
       "      <th></th>\n",
       "      <th></th>\n",
       "      <th></th>\n",
       "      <th></th>\n",
       "      <th></th>\n",
       "      <th></th>\n",
       "      <th></th>\n",
       "      <th></th>\n",
       "      <th></th>\n",
       "      <th></th>\n",
       "      <th></th>\n",
       "      <th></th>\n",
       "      <th></th>\n",
       "      <th></th>\n",
       "      <th></th>\n",
       "      <th></th>\n",
       "      <th></th>\n",
       "      <th></th>\n",
       "    </tr>\n",
       "  </thead>\n",
       "  <tbody>\n",
       "    <tr>\n",
       "      <th>461105</th>\n",
       "      <td>2013-01-01</td>\n",
       "      <td>Pennsylvania</td>\n",
       "      <td>Mckeesport</td>\n",
       "      <td>1506 Versailles Avenue and Coursin Street</td>\n",
       "      <td>0</td>\n",
       "      <td>4</td>\n",
       "      <td>http://www.gunviolencearchive.org/incident/461105</td>\n",
       "      <td>http://www.post-gazette.com/local/south/2013/0...</td>\n",
       "      <td>False</td>\n",
       "      <td>14.0</td>\n",
       "      <td>...</td>\n",
       "      <td>0::20</td>\n",
       "      <td>0::Adult 18+||1::Adult 18+||2::Adult 18+||3::A...</td>\n",
       "      <td>0::Male||1::Male||3::Male||4::Female</td>\n",
       "      <td>0::Julian Sims</td>\n",
       "      <td>NaN</td>\n",
       "      <td>0::Arrested||1::Injured||2::Injured||3::Injure...</td>\n",
       "      <td>0::Victim||1::Victim||2::Victim||3::Victim||4:...</td>\n",
       "      <td>http://pittsburgh.cbslocal.com/2013/01/01/4-pe...</td>\n",
       "      <td>NaN</td>\n",
       "      <td>NaN</td>\n",
       "    </tr>\n",
       "    <tr>\n",
       "      <th>460726</th>\n",
       "      <td>2013-01-01</td>\n",
       "      <td>California</td>\n",
       "      <td>Hawthorne</td>\n",
       "      <td>13500 block of Cerise Avenue</td>\n",
       "      <td>1</td>\n",
       "      <td>3</td>\n",
       "      <td>http://www.gunviolencearchive.org/incident/460726</td>\n",
       "      <td>http://www.dailybulletin.com/article/zz/201301...</td>\n",
       "      <td>False</td>\n",
       "      <td>43.0</td>\n",
       "      <td>...</td>\n",
       "      <td>0::20</td>\n",
       "      <td>0::Adult 18+||1::Adult 18+||2::Adult 18+||3::A...</td>\n",
       "      <td>0::Male</td>\n",
       "      <td>0::Bernard Gillis</td>\n",
       "      <td>NaN</td>\n",
       "      <td>0::Killed||1::Injured||2::Injured||3::Injured</td>\n",
       "      <td>0::Victim||1::Victim||2::Victim||3::Victim||4:...</td>\n",
       "      <td>http://losangeles.cbslocal.com/2013/01/01/man-...</td>\n",
       "      <td>62.0</td>\n",
       "      <td>35.0</td>\n",
       "    </tr>\n",
       "    <tr>\n",
       "      <th>478855</th>\n",
       "      <td>2013-01-01</td>\n",
       "      <td>Ohio</td>\n",
       "      <td>Lorain</td>\n",
       "      <td>1776 East 28th Street</td>\n",
       "      <td>1</td>\n",
       "      <td>3</td>\n",
       "      <td>http://www.gunviolencearchive.org/incident/478855</td>\n",
       "      <td>http://chronicle.northcoastnow.com/2013/02/14/...</td>\n",
       "      <td>False</td>\n",
       "      <td>9.0</td>\n",
       "      <td>...</td>\n",
       "      <td>0::25||1::31||2::33||3::34||4::33</td>\n",
       "      <td>0::Adult 18+||1::Adult 18+||2::Adult 18+||3::A...</td>\n",
       "      <td>0::Male||1::Male||2::Male||3::Male||4::Male</td>\n",
       "      <td>0::Damien Bell||1::Desmen Noble||2::Herman Sea...</td>\n",
       "      <td>NaN</td>\n",
       "      <td>0::Injured, Unharmed, Arrested||1::Unharmed, A...</td>\n",
       "      <td>0::Subject-Suspect||1::Subject-Suspect||2::Vic...</td>\n",
       "      <td>http://www.morningjournal.com/general-news/201...</td>\n",
       "      <td>56.0</td>\n",
       "      <td>13.0</td>\n",
       "    </tr>\n",
       "    <tr>\n",
       "      <th>478925</th>\n",
       "      <td>2013-01-05</td>\n",
       "      <td>Colorado</td>\n",
       "      <td>Aurora</td>\n",
       "      <td>16000 block of East Ithaca Place</td>\n",
       "      <td>4</td>\n",
       "      <td>0</td>\n",
       "      <td>http://www.gunviolencearchive.org/incident/478925</td>\n",
       "      <td>http://www.dailydemocrat.com/20130106/aurora-s...</td>\n",
       "      <td>False</td>\n",
       "      <td>6.0</td>\n",
       "      <td>...</td>\n",
       "      <td>0::29||1::33||2::56||3::33</td>\n",
       "      <td>0::Adult 18+||1::Adult 18+||2::Adult 18+||3::A...</td>\n",
       "      <td>0::Female||1::Male||2::Male||3::Male</td>\n",
       "      <td>0::Stacie Philbrook||1::Christopher Ratliffe||...</td>\n",
       "      <td>NaN</td>\n",
       "      <td>0::Killed||1::Killed||2::Killed||3::Killed</td>\n",
       "      <td>0::Victim||1::Victim||2::Victim||3::Subject-Su...</td>\n",
       "      <td>http://denver.cbslocal.com/2013/01/06/officer-...</td>\n",
       "      <td>40.0</td>\n",
       "      <td>28.0</td>\n",
       "    </tr>\n",
       "    <tr>\n",
       "      <th>478959</th>\n",
       "      <td>2013-01-07</td>\n",
       "      <td>North Carolina</td>\n",
       "      <td>Greensboro</td>\n",
       "      <td>307 Mourning Dove Terrace</td>\n",
       "      <td>2</td>\n",
       "      <td>2</td>\n",
       "      <td>http://www.gunviolencearchive.org/incident/478959</td>\n",
       "      <td>http://www.journalnow.com/news/local/article_d...</td>\n",
       "      <td>False</td>\n",
       "      <td>6.0</td>\n",
       "      <td>...</td>\n",
       "      <td>0::18||1::46||2::14||3::47</td>\n",
       "      <td>0::Adult 18+||1::Adult 18+||2::Teen 12-17||3::...</td>\n",
       "      <td>0::Female||1::Male||2::Male||3::Female</td>\n",
       "      <td>0::Danielle Imani Jameison||1::Maurice Eugene ...</td>\n",
       "      <td>3::Family</td>\n",
       "      <td>0::Injured||1::Injured||2::Killed||3::Killed</td>\n",
       "      <td>0::Victim||1::Victim||2::Victim||3::Subject-Su...</td>\n",
       "      <td>http://myfox8.com/2013/01/08/update-mother-sho...</td>\n",
       "      <td>62.0</td>\n",
       "      <td>27.0</td>\n",
       "    </tr>\n",
       "  </tbody>\n",
       "</table>\n",
       "<p>5 rows × 28 columns</p>\n",
       "</div>"
      ],
      "text/plain": [
       "                  date           state city_or_county  \\\n",
       "incident_id                                             \n",
       "461105      2013-01-01    Pennsylvania     Mckeesport   \n",
       "460726      2013-01-01      California      Hawthorne   \n",
       "478855      2013-01-01            Ohio         Lorain   \n",
       "478925      2013-01-05        Colorado         Aurora   \n",
       "478959      2013-01-07  North Carolina     Greensboro   \n",
       "\n",
       "                                               address  n_killed  n_injured  \\\n",
       "incident_id                                                                   \n",
       "461105       1506 Versailles Avenue and Coursin Street         0          4   \n",
       "460726                    13500 block of Cerise Avenue         1          3   \n",
       "478855                           1776 East 28th Street         1          3   \n",
       "478925                16000 block of East Ithaca Place         4          0   \n",
       "478959                       307 Mourning Dove Terrace         2          2   \n",
       "\n",
       "                                                  incident_url  \\\n",
       "incident_id                                                      \n",
       "461105       http://www.gunviolencearchive.org/incident/461105   \n",
       "460726       http://www.gunviolencearchive.org/incident/460726   \n",
       "478855       http://www.gunviolencearchive.org/incident/478855   \n",
       "478925       http://www.gunviolencearchive.org/incident/478925   \n",
       "478959       http://www.gunviolencearchive.org/incident/478959   \n",
       "\n",
       "                                                    source_url  \\\n",
       "incident_id                                                      \n",
       "461105       http://www.post-gazette.com/local/south/2013/0...   \n",
       "460726       http://www.dailybulletin.com/article/zz/201301...   \n",
       "478855       http://chronicle.northcoastnow.com/2013/02/14/...   \n",
       "478925       http://www.dailydemocrat.com/20130106/aurora-s...   \n",
       "478959       http://www.journalnow.com/news/local/article_d...   \n",
       "\n",
       "             incident_url_fields_missing  congressional_district  \\\n",
       "incident_id                                                        \n",
       "461105                             False                    14.0   \n",
       "460726                             False                    43.0   \n",
       "478855                             False                     9.0   \n",
       "478925                             False                     6.0   \n",
       "478959                             False                     6.0   \n",
       "\n",
       "                     ...                             participant_age  \\\n",
       "incident_id          ...                                               \n",
       "461105               ...                                       0::20   \n",
       "460726               ...                                       0::20   \n",
       "478855               ...           0::25||1::31||2::33||3::34||4::33   \n",
       "478925               ...                  0::29||1::33||2::56||3::33   \n",
       "478959               ...                  0::18||1::46||2::14||3::47   \n",
       "\n",
       "                                         participant_age_group  \\\n",
       "incident_id                                                      \n",
       "461105       0::Adult 18+||1::Adult 18+||2::Adult 18+||3::A...   \n",
       "460726       0::Adult 18+||1::Adult 18+||2::Adult 18+||3::A...   \n",
       "478855       0::Adult 18+||1::Adult 18+||2::Adult 18+||3::A...   \n",
       "478925       0::Adult 18+||1::Adult 18+||2::Adult 18+||3::A...   \n",
       "478959       0::Adult 18+||1::Adult 18+||2::Teen 12-17||3::...   \n",
       "\n",
       "                                      participant_gender  \\\n",
       "incident_id                                                \n",
       "461105              0::Male||1::Male||3::Male||4::Female   \n",
       "460726                                           0::Male   \n",
       "478855       0::Male||1::Male||2::Male||3::Male||4::Male   \n",
       "478925              0::Female||1::Male||2::Male||3::Male   \n",
       "478959            0::Female||1::Male||2::Male||3::Female   \n",
       "\n",
       "                                              participant_name  \\\n",
       "incident_id                                                      \n",
       "461105                                          0::Julian Sims   \n",
       "460726                                       0::Bernard Gillis   \n",
       "478855       0::Damien Bell||1::Desmen Noble||2::Herman Sea...   \n",
       "478925       0::Stacie Philbrook||1::Christopher Ratliffe||...   \n",
       "478959       0::Danielle Imani Jameison||1::Maurice Eugene ...   \n",
       "\n",
       "            participant_relationship  \\\n",
       "incident_id                            \n",
       "461105                           NaN   \n",
       "460726                           NaN   \n",
       "478855                           NaN   \n",
       "478925                           NaN   \n",
       "478959                     3::Family   \n",
       "\n",
       "                                            participant_status  \\\n",
       "incident_id                                                      \n",
       "461105       0::Arrested||1::Injured||2::Injured||3::Injure...   \n",
       "460726           0::Killed||1::Injured||2::Injured||3::Injured   \n",
       "478855       0::Injured, Unharmed, Arrested||1::Unharmed, A...   \n",
       "478925              0::Killed||1::Killed||2::Killed||3::Killed   \n",
       "478959            0::Injured||1::Injured||2::Killed||3::Killed   \n",
       "\n",
       "                                              participant_type  \\\n",
       "incident_id                                                      \n",
       "461105       0::Victim||1::Victim||2::Victim||3::Victim||4:...   \n",
       "460726       0::Victim||1::Victim||2::Victim||3::Victim||4:...   \n",
       "478855       0::Subject-Suspect||1::Subject-Suspect||2::Vic...   \n",
       "478925       0::Victim||1::Victim||2::Victim||3::Subject-Su...   \n",
       "478959       0::Victim||1::Victim||2::Victim||3::Subject-Su...   \n",
       "\n",
       "                                                       sources  \\\n",
       "incident_id                                                      \n",
       "461105       http://pittsburgh.cbslocal.com/2013/01/01/4-pe...   \n",
       "460726       http://losangeles.cbslocal.com/2013/01/01/man-...   \n",
       "478855       http://www.morningjournal.com/general-news/201...   \n",
       "478925       http://denver.cbslocal.com/2013/01/06/officer-...   \n",
       "478959       http://myfox8.com/2013/01/08/update-mother-sho...   \n",
       "\n",
       "            state_house_district state_senate_district  \n",
       "incident_id                                             \n",
       "461105                       NaN                   NaN  \n",
       "460726                      62.0                  35.0  \n",
       "478855                      56.0                  13.0  \n",
       "478925                      40.0                  28.0  \n",
       "478959                      62.0                  27.0  \n",
       "\n",
       "[5 rows x 28 columns]"
      ]
     },
     "execution_count": 5,
     "metadata": {},
     "output_type": "execute_result"
    }
   ],
   "source": [
    "df = pd.read_csv('gun-violence-data_01-2013_03-2018.csv', index_col='incident_id', parse_dates=[1])\n",
    "df.head()"
   ]
  },
  {
   "cell_type": "code",
   "execution_count": 6,
   "metadata": {
    "collapsed": false,
    "deletable": true,
    "editable": true
   },
   "outputs": [
    {
     "data": {
      "text/plain": [
       "Index(['date', 'state', 'city_or_county', 'address', 'n_killed', 'n_injured',\n",
       "       'incident_url', 'source_url', 'incident_url_fields_missing',\n",
       "       'congressional_district', 'gun_stolen', 'gun_type',\n",
       "       'incident_characteristics', 'latitude', 'location_description',\n",
       "       'longitude', 'n_guns_involved', 'notes', 'participant_age',\n",
       "       'participant_age_group', 'participant_gender', 'participant_name',\n",
       "       'participant_relationship', 'participant_status', 'participant_type',\n",
       "       'sources', 'state_house_district', 'state_senate_district'],\n",
       "      dtype='object')"
      ]
     },
     "execution_count": 6,
     "metadata": {},
     "output_type": "execute_result"
    }
   ],
   "source": [
    " df.columns"
   ]
  },
  {
   "cell_type": "code",
   "execution_count": 7,
   "metadata": {
    "collapsed": true,
    "deletable": true,
    "editable": true
   },
   "outputs": [],
   "source": [
    "# removing unuseful columns \n",
    "df.drop(labels=['address', 'incident_url', 'source_url', 'incident_url_fields_missing', 'congressional_district',\n",
    "                'location_description', 'participant_name', 'sources', 'state_house_district', \n",
    "                'state_senate_district'], \n",
    "        axis=1, inplace=True)"
   ]
  },
  {
   "cell_type": "code",
   "execution_count": 8,
   "metadata": {
    "collapsed": false,
    "deletable": true,
    "editable": true
   },
   "outputs": [
    {
     "data": {
      "text/plain": [
       "Index(['date', 'state', 'city_or_county', 'n_killed', 'n_injured',\n",
       "       'gun_stolen', 'gun_type', 'incident_characteristics', 'latitude',\n",
       "       'longitude', 'n_guns_involved', 'notes', 'participant_age',\n",
       "       'participant_age_group', 'participant_gender',\n",
       "       'participant_relationship', 'participant_status', 'participant_type'],\n",
       "      dtype='object')"
      ]
     },
     "execution_count": 8,
     "metadata": {},
     "output_type": "execute_result"
    }
   ],
   "source": [
    "df.columns"
   ]
  },
  {
   "cell_type": "code",
   "execution_count": 9,
   "metadata": {
    "collapsed": false,
    "deletable": true,
    "editable": true
   },
   "outputs": [
    {
     "data": {
      "text/plain": [
       "date                        datetime64[ns]\n",
       "state                               object\n",
       "city_or_county                      object\n",
       "n_killed                             int64\n",
       "n_injured                            int64\n",
       "gun_stolen                          object\n",
       "gun_type                            object\n",
       "incident_characteristics            object\n",
       "latitude                           float64\n",
       "longitude                          float64\n",
       "n_guns_involved                    float64\n",
       "notes                               object\n",
       "participant_age                     object\n",
       "participant_age_group               object\n",
       "participant_gender                  object\n",
       "participant_relationship            object\n",
       "participant_status                  object\n",
       "participant_type                    object\n",
       "dtype: object"
      ]
     },
     "execution_count": 9,
     "metadata": {},
     "output_type": "execute_result"
    }
   ],
   "source": [
    "df.dtypes"
   ]
  },
  {
   "cell_type": "code",
   "execution_count": 51,
   "metadata": {
    "collapsed": false,
    "deletable": true,
    "editable": true
   },
   "outputs": [
    {
     "data": {
      "image/png": "[encoded data removed]",
      "text/plain": [
       "<matplotlib.figure.Figure at 0x7f6fd7788ac8>"
      ]
     },
     "metadata": {},
     "output_type": "display_data"
    }
   ],
   "source": [
    "temp = df[['latitude', 'longitude']].copy()\n",
    "\n",
    "# removing hawaii, alyeska and anomaly\n",
    "temp = temp.loc[temp['longitude'].between(-125, -40) & temp['latitude'].between(25, 50), :]\n",
    "temp = temp.dropna().sample(10000)\n",
    "plt.scatter(temp['longitude'], temp['latitude']);"
   ]
  },
  {
   "cell_type": "code",
   "execution_count": null,
   "metadata": {
    "collapsed": true
   },
   "outputs": [],
   "source": []
  }
 ],
 "metadata": {
  "kernelspec": {
   "display_name": "Python 3",
   "language": "python",
   "name": "python3"
  },
  "language_info": {
   "codemirror_mode": {
    "name": "ipython",
    "version": 3
   },
   "file_extension": ".py",
   "mimetype": "text/x-python",
   "name": "python",
   "nbconvert_exporter": "python",
   "pygments_lexer": "ipython3",
   "version": "3.4.3"
  }
 },
 "nbformat": 4,
 "nbformat_minor": 2
}
