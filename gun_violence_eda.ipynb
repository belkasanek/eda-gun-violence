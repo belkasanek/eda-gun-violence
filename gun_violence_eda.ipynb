{
 "cells": [
  {
   "cell_type": "code",
   "execution_count": 2,
   "metadata": {
    "collapsed": false,
    "deletable": true,
    "editable": true
   },
   "outputs": [],
   "source": [
    "import os\n",
    "import chardet\n",
    "from datetime import datetime\n",
    "import time\n",
    "\n",
    "import numpy as np\n",
    "import pandas as pd\n",
    "import matplotlib.pyplot as plt\n",
    "import seaborn as sns\n",
    "from scipy import stats\n",
    "\n",
    "from IPython.display import Markdown\n",
    "\n",
    "plt.rcParams['figure.figsize'] = (14, 8)\n",
    "%matplotlib inline"
   ]
  },
  {
   "cell_type": "code",
   "execution_count": 3,
   "metadata": {
    "collapsed": false,
    "deletable": true,
    "editable": true
   },
   "outputs": [
    {
     "data": {
      "text/plain": [
       "['.gitignore',\n",
       " 'gun_violence_eda.ipynb',\n",
       " '.ipynb_checkpoints',\n",
       " 'gun-violence-data_01-2013_03-2018.csv',\n",
       " '.git']"
      ]
     },
     "execution_count": 3,
     "metadata": {},
     "output_type": "execute_result"
    }
   ],
   "source": [
    "os.listdir('.')"
   ]
  },
  {
   "cell_type": "code",
   "execution_count": 4,
   "metadata": {
    "collapsed": false,
    "deletable": true,
    "editable": true
   },
   "outputs": [
    {
     "name": "stdout",
     "output_type": "stream",
     "text": [
      "{'encoding': 'utf-8', 'language': '', 'confidence': 0.99}\n"
     ]
    }
   ],
   "source": [
    "# check what the character encoding might be\n",
    "with open('gun-violence-data_01-2013_03-2018.csv', 'rb') as rawdata:\n",
    "    result = chardet.detect(rawdata.read(100000))\n",
    "\n",
    "print(result)"
   ]
  },
  {
   "cell_type": "code",
   "execution_count": 5,
   "metadata": {
    "collapsed": false,
    "deletable": true,
    "editable": true
   },
   "outputs": [],
   "source": [
    "df = pd.read_csv('gun-violence-data_01-2013_03-2018.csv', index_col='incident_id', parse_dates=[1])"
   ]
  },
  {
   "cell_type": "code",
   "execution_count": 6,
   "metadata": {
    "collapsed": false,
    "deletable": true,
    "editable": true
   },
   "outputs": [
    {
     "data": {
      "text/plain": [
       "Index(['date', 'state', 'city_or_county', 'address', 'n_killed', 'n_injured',\n",
       "       'incident_url', 'source_url', 'incident_url_fields_missing',\n",
       "       'congressional_district', 'gun_stolen', 'gun_type',\n",
       "       'incident_characteristics', 'latitude', 'location_description',\n",
       "       'longitude', 'n_guns_involved', 'notes', 'participant_age',\n",
       "       'participant_age_group', 'participant_gender', 'participant_name',\n",
       "       'participant_relationship', 'participant_status', 'participant_type',\n",
       "       'sources', 'state_house_district', 'state_senate_district'],\n",
       "      dtype='object')"
      ]
     },
     "execution_count": 6,
     "metadata": {},
     "output_type": "execute_result"
    }
   ],
   "source": [
    " df.columns"
   ]
  },
  {
   "cell_type": "code",
   "execution_count": 7,
   "metadata": {
    "collapsed": true,
    "deletable": true,
    "editable": true
   },
   "outputs": [],
   "source": [
    "# removing unuseful columns \n",
    "df.drop(labels=['address', 'incident_url', 'incident_url_fields_missing', 'congressional_district',\n",
    "                'location_description', 'participant_name', 'sources', 'state_house_district', \n",
    "                'state_senate_district'], \n",
    "        axis=1, inplace=True)"
   ]
  },
  {
   "cell_type": "code",
   "execution_count": 8,
   "metadata": {
    "collapsed": false,
    "deletable": true,
    "editable": true
   },
   "outputs": [
    {
     "data": {
      "text/plain": [
       "date                        datetime64[ns]\n",
       "state                               object\n",
       "city_or_county                      object\n",
       "n_killed                             int64\n",
       "n_injured                            int64\n",
       "source_url                          object\n",
       "gun_stolen                          object\n",
       "gun_type                            object\n",
       "incident_characteristics            object\n",
       "latitude                           float64\n",
       "longitude                          float64\n",
       "n_guns_involved                    float64\n",
       "notes                               object\n",
       "participant_age                     object\n",
       "participant_age_group               object\n",
       "participant_gender                  object\n",
       "participant_relationship            object\n",
       "participant_status                  object\n",
       "participant_type                    object\n",
       "dtype: object"
      ]
     },
     "execution_count": 8,
     "metadata": {},
     "output_type": "execute_result"
    }
   ],
   "source": [
    "df.dtypes"
   ]
  },
  {
   "cell_type": "markdown",
   "metadata": {
    "deletable": true,
    "editable": true
   },
   "source": [
    "# Plot map of incidents"
   ]
  },
  {
   "cell_type": "code",
   "execution_count": 10,
   "metadata": {
    "collapsed": false,
    "deletable": true,
    "editable": true
   },
   "outputs": [
    {
     "data": {
      "image/png": "[encoded data removed]",
      "text/plain": [
       "<matplotlib.figure.Figure at 0x7fdf40ab03c8>"
      ]
     },
     "metadata": {},
     "output_type": "display_data"
    }
   ],
   "source": [
    "temp = df[['latitude', 'longitude']].copy()\n",
    "\n",
    "# removing hawaii, alyeska and some anomalys\n",
    "temp = temp.loc[temp['longitude'].between(-125, -40) & temp['latitude'].between(25, 50), :]\n",
    "temp = temp.dropna().sample(10000)\n",
    "plt.scatter(temp['longitude'], temp['latitude']);"
   ]
  },
  {
   "cell_type": "markdown",
   "metadata": {
    "deletable": true,
    "editable": true
   },
   "source": [
    "# Major facts about our dataset"
   ]
  },
  {
   "cell_type": "code",
   "execution_count": 11,
   "metadata": {
    "collapsed": false,
    "deletable": true,
    "editable": true
   },
   "outputs": [
    {
     "data": {
      "text/markdown": [
       "\n",
       "### In 239 thousand incidents there is 59% injured or killed people.\n"
      ],
      "text/plain": [
       "<IPython.core.display.Markdown object>"
      ]
     },
     "execution_count": 11,
     "metadata": {},
     "output_type": "execute_result"
    }
   ],
   "source": [
    "total_incidents = df.shape[0]\n",
    "zero_killed_or_injured = df.loc[(df['n_killed'] == 0) & (df['n_injured']  == 0)].shape[0]\n",
    "\n",
    "Markdown(\"\"\"\n",
    "### In {} thousand incidents there is {:2.0f}% injured or killed people.\n",
    "\"\"\".format(total_incidents // 1000, (total_incidents - zero_killed_or_injured) * 100 / total_incidents))"
   ]
  },
  {
   "cell_type": "code",
   "execution_count": 13,
   "metadata": {
    "collapsed": false,
    "deletable": true,
    "editable": true
   },
   "outputs": [
    {
     "data": {
      "image/png": "[encoded data removed]",
      "text/plain": [
       "<matplotlib.figure.Figure at 0x7fdf3bc12e10>"
      ]
     },
     "metadata": {},
     "output_type": "display_data"
    }
   ],
   "source": [
    "patches, texts = plt.pie([total_incidents - zero_killed_or_injured, zero_killed_or_injured], \n",
    "                                     labels=['injured or killed 59%', 'unharmed 41%'], colors=['r', 'g'])\n",
    "texts[0].set_fontsize(16)\n",
    "texts[1].set_fontsize(16)"
   ]
  },
  {
   "cell_type": "code",
   "execution_count": 14,
   "metadata": {
    "collapsed": false,
    "deletable": true,
    "editable": true
   },
   "outputs": [
    {
     "data": {
      "text/html": [
       "<div>\n",
       "<style scoped>\n",
       "    .dataframe tbody tr th:only-of-type {\n",
       "        vertical-align: middle;\n",
       "    }\n",
       "\n",
       "    .dataframe tbody tr th {\n",
       "        vertical-align: top;\n",
       "    }\n",
       "\n",
       "    .dataframe thead th {\n",
       "        text-align: right;\n",
       "    }\n",
       "</style>\n",
       "<table border=\"1\" class=\"dataframe\">\n",
       "  <thead>\n",
       "    <tr style=\"text-align: right;\">\n",
       "      <th></th>\n",
       "      <th>n_killed</th>\n",
       "      <th>n_injured</th>\n",
       "    </tr>\n",
       "  </thead>\n",
       "  <tbody>\n",
       "    <tr>\n",
       "      <th>count</th>\n",
       "      <td>239677.000000</td>\n",
       "      <td>239677.000000</td>\n",
       "    </tr>\n",
       "    <tr>\n",
       "      <th>mean</th>\n",
       "      <td>0.252290</td>\n",
       "      <td>0.494007</td>\n",
       "    </tr>\n",
       "    <tr>\n",
       "      <th>std</th>\n",
       "      <td>0.521779</td>\n",
       "      <td>0.729952</td>\n",
       "    </tr>\n",
       "    <tr>\n",
       "      <th>min</th>\n",
       "      <td>0.000000</td>\n",
       "      <td>0.000000</td>\n",
       "    </tr>\n",
       "    <tr>\n",
       "      <th>25%</th>\n",
       "      <td>0.000000</td>\n",
       "      <td>0.000000</td>\n",
       "    </tr>\n",
       "    <tr>\n",
       "      <th>50%</th>\n",
       "      <td>0.000000</td>\n",
       "      <td>0.000000</td>\n",
       "    </tr>\n",
       "    <tr>\n",
       "      <th>75%</th>\n",
       "      <td>0.000000</td>\n",
       "      <td>1.000000</td>\n",
       "    </tr>\n",
       "    <tr>\n",
       "      <th>max</th>\n",
       "      <td>50.000000</td>\n",
       "      <td>53.000000</td>\n",
       "    </tr>\n",
       "  </tbody>\n",
       "</table>\n",
       "</div>"
      ],
      "text/plain": [
       "            n_killed      n_injured\n",
       "count  239677.000000  239677.000000\n",
       "mean        0.252290       0.494007\n",
       "std         0.521779       0.729952\n",
       "min         0.000000       0.000000\n",
       "25%         0.000000       0.000000\n",
       "50%         0.000000       0.000000\n",
       "75%         0.000000       1.000000\n",
       "max        50.000000      53.000000"
      ]
     },
     "execution_count": 14,
     "metadata": {},
     "output_type": "execute_result"
    }
   ],
   "source": [
    "df[['n_killed', 'n_injured']].describe()"
   ]
  },
  {
   "cell_type": "code",
   "execution_count": 15,
   "metadata": {
    "collapsed": false,
    "deletable": true,
    "editable": true
   },
   "outputs": [
    {
     "data": {
      "text/html": [
       "<div>\n",
       "<style scoped>\n",
       "    .dataframe tbody tr th:only-of-type {\n",
       "        vertical-align: middle;\n",
       "    }\n",
       "\n",
       "    .dataframe tbody tr th {\n",
       "        vertical-align: top;\n",
       "    }\n",
       "\n",
       "    .dataframe thead th {\n",
       "        text-align: right;\n",
       "    }\n",
       "</style>\n",
       "<table border=\"1\" class=\"dataframe\">\n",
       "  <thead>\n",
       "    <tr style=\"text-align: right;\">\n",
       "      <th></th>\n",
       "      <th>n_killed</th>\n",
       "      <th>freq</th>\n",
       "    </tr>\n",
       "  </thead>\n",
       "  <tbody>\n",
       "    <tr>\n",
       "      <th>0</th>\n",
       "      <td>0</td>\n",
       "      <td>0.775356</td>\n",
       "    </tr>\n",
       "    <tr>\n",
       "      <th>1</th>\n",
       "      <td>1</td>\n",
       "      <td>0.202089</td>\n",
       "    </tr>\n",
       "    <tr>\n",
       "      <th>2</th>\n",
       "      <td>2</td>\n",
       "      <td>0.019209</td>\n",
       "    </tr>\n",
       "    <tr>\n",
       "      <th>3</th>\n",
       "      <td>3</td>\n",
       "      <td>0.002483</td>\n",
       "    </tr>\n",
       "    <tr>\n",
       "      <th>4</th>\n",
       "      <td>4</td>\n",
       "      <td>0.000580</td>\n",
       "    </tr>\n",
       "    <tr>\n",
       "      <th>5</th>\n",
       "      <td>5</td>\n",
       "      <td>0.000171</td>\n",
       "    </tr>\n",
       "  </tbody>\n",
       "</table>\n",
       "</div>"
      ],
      "text/plain": [
       "   n_killed      freq\n",
       "0         0  0.775356\n",
       "1         1  0.202089\n",
       "2         2  0.019209\n",
       "3         3  0.002483\n",
       "4         4  0.000580\n",
       "5         5  0.000171"
      ]
     },
     "execution_count": 15,
     "metadata": {},
     "output_type": "execute_result"
    }
   ],
   "source": [
    "temp = df['n_killed'].value_counts()\\\n",
    ".reset_index().rename(columns={'index': 'n_killed', 'n_killed': 'count'}).sort_values(by='n_killed')\n",
    "temp['freq'] = temp['count'] / total_incidents\n",
    "temp.loc[temp['freq'] >= 0.0001, ['n_killed', 'freq']]"
   ]
  },
  {
   "cell_type": "code",
   "execution_count": 16,
   "metadata": {
    "collapsed": false,
    "deletable": true,
    "editable": true
   },
   "outputs": [
    {
     "data": {
      "text/markdown": [
       "\n",
       "### We can see what mass shoting (more or equal than 4 killed) is rare event it happend 1 in 1158 inidents\n"
      ],
      "text/plain": [
       "<IPython.core.display.Markdown object>"
      ]
     },
     "execution_count": 16,
     "metadata": {},
     "output_type": "execute_result"
    }
   ],
   "source": [
    "Markdown(\"\"\"\n",
    "### We can see what mass shoting (more or equal than 4 killed) is rare event it happend 1 in {:.0f} inidents\n",
    "\"\"\".format( 1 / temp.loc[temp['n_killed'] >= 4, 'freq'].sum()))"
   ]
  },
  {
   "cell_type": "code",
   "execution_count": 17,
   "metadata": {
    "collapsed": false,
    "deletable": true,
    "editable": true
   },
   "outputs": [
    {
     "data": {
      "text/html": [
       "<div>\n",
       "<style scoped>\n",
       "    .dataframe tbody tr th:only-of-type {\n",
       "        vertical-align: middle;\n",
       "    }\n",
       "\n",
       "    .dataframe tbody tr th {\n",
       "        vertical-align: top;\n",
       "    }\n",
       "\n",
       "    .dataframe thead th {\n",
       "        text-align: right;\n",
       "    }\n",
       "</style>\n",
       "<table border=\"1\" class=\"dataframe\">\n",
       "  <thead>\n",
       "    <tr style=\"text-align: right;\">\n",
       "      <th></th>\n",
       "      <th>n_injured_or_killed</th>\n",
       "      <th>freq</th>\n",
       "    </tr>\n",
       "  </thead>\n",
       "  <tbody>\n",
       "    <tr>\n",
       "      <th>1</th>\n",
       "      <td>0</td>\n",
       "      <td>0.405909</td>\n",
       "    </tr>\n",
       "    <tr>\n",
       "      <th>0</th>\n",
       "      <td>1</td>\n",
       "      <td>0.484936</td>\n",
       "    </tr>\n",
       "    <tr>\n",
       "      <th>2</th>\n",
       "      <td>2</td>\n",
       "      <td>0.082586</td>\n",
       "    </tr>\n",
       "    <tr>\n",
       "      <th>3</th>\n",
       "      <td>3</td>\n",
       "      <td>0.017799</td>\n",
       "    </tr>\n",
       "    <tr>\n",
       "      <th>4</th>\n",
       "      <td>4</td>\n",
       "      <td>0.005591</td>\n",
       "    </tr>\n",
       "    <tr>\n",
       "      <th>5</th>\n",
       "      <td>5</td>\n",
       "      <td>0.001807</td>\n",
       "    </tr>\n",
       "  </tbody>\n",
       "</table>\n",
       "</div>"
      ],
      "text/plain": [
       "   n_injured_or_killed      freq\n",
       "1                    0  0.405909\n",
       "0                    1  0.484936\n",
       "2                    2  0.082586\n",
       "3                    3  0.017799\n",
       "4                    4  0.005591\n",
       "5                    5  0.001807"
      ]
     },
     "execution_count": 17,
     "metadata": {},
     "output_type": "execute_result"
    }
   ],
   "source": [
    "temp = (df['n_injured'] + df['n_killed']).value_counts().reset_index()\\\n",
    ".rename(columns={'index': 'n_injured_or_killed', 0: 'count'}).sort_values(by='n_injured_or_killed')\n",
    "temp['freq'] = temp['count'] / total_incidents\n",
    "temp.loc[temp['freq'] >= 0.001, ['n_injured_or_killed', 'freq']]"
   ]
  },
  {
   "cell_type": "code",
   "execution_count": 18,
   "metadata": {
    "collapsed": false,
    "deletable": true,
    "editable": true
   },
   "outputs": [
    {
     "data": {
      "text/markdown": [
       "\n",
       "### We can see what the most probable situation is where zero or one person injured or killed. Over 0.97% of all insidents have less or equal than 2 injured or killed person.\n"
      ],
      "text/plain": [
       "<IPython.core.display.Markdown object>"
      ]
     },
     "execution_count": 18,
     "metadata": {},
     "output_type": "execute_result"
    }
   ],
   "source": [
    "Markdown(\"\"\"\n",
    "### We can see what the most probable situation is where zero or one person injured or killed. \\\n",
    "Over {:.2f}% of all insidents have less or equal than 2 injured or killed person.\n",
    "\"\"\".format(temp.loc[temp['n_injured_or_killed'] <= 2, 'freq'].sum()))"
   ]
  },
  {
   "cell_type": "code",
   "execution_count": 19,
   "metadata": {
    "collapsed": false,
    "deletable": true,
    "editable": true
   },
   "outputs": [
    {
     "data": {
      "text/plain": [
       "2017    61401\n",
       "2016    58763\n",
       "2015    53579\n",
       "2014    51854\n",
       "2018    13802\n",
       "2013      278\n",
       "Name: date, dtype: int64"
      ]
     },
     "execution_count": 19,
     "metadata": {},
     "output_type": "execute_result"
    }
   ],
   "source": [
    "df['date'].dt.year.value_counts()"
   ]
  },
  {
   "cell_type": "markdown",
   "metadata": {
    "deletable": true,
    "editable": true
   },
   "source": [
    "### It seems what amout of cases with guns increasing (if we drop 2013, 2018 because we don't have full data on them)"
   ]
  },
  {
   "cell_type": "code",
   "execution_count": 20,
   "metadata": {
    "collapsed": false,
    "deletable": true,
    "editable": true
   },
   "outputs": [
    {
     "data": {
      "text/plain": [
       "2017    24272\n",
       "2014    23700\n",
       "2016    22224\n",
       "2015    21121\n",
       "2018     5970\n",
       "Name: date, dtype: int64"
      ]
     },
     "execution_count": 20,
     "metadata": {},
     "output_type": "execute_result"
    }
   ],
   "source": [
    "df.loc[(df['n_killed'] == 0) & (df['n_injured']  == 0), 'date'].dt.year.value_counts()"
   ]
  },
  {
   "cell_type": "code",
   "execution_count": 21,
   "metadata": {
    "collapsed": false,
    "deletable": true,
    "editable": true
   },
   "outputs": [
    {
     "data": {
      "text/plain": [
       "2017    37129\n",
       "2016    36539\n",
       "2015    32458\n",
       "2014    28154\n",
       "2018     7832\n",
       "2013      278\n",
       "Name: date, dtype: int64"
      ]
     },
     "execution_count": 21,
     "metadata": {},
     "output_type": "execute_result"
    }
   ],
   "source": [
    "df.loc[~((df['n_killed'] == 0) & (df['n_injured']  == 0)), 'date'].dt.year.value_counts()"
   ]
  },
  {
   "cell_type": "markdown",
   "metadata": {
    "deletable": true,
    "editable": true
   },
   "source": [
    "### Amout of cases with injured people is also increasing"
   ]
  },
  {
   "cell_type": "code",
   "execution_count": 23,
   "metadata": {
    "collapsed": false,
    "deletable": true,
    "editable": true
   },
   "outputs": [
    {
     "data": {
      "image/png": "[encoded data removed]",
      "text/plain": [
       "<matplotlib.figure.Figure at 0x7fdf3fb21320>"
      ]
     },
     "metadata": {},
     "output_type": "display_data"
    }
   ],
   "source": [
    "ax = df.groupby(by='date')['state'].count().plot()\n",
    "ax.set_ylabel('amount', fontdict={'fontsize': 15})\n",
    "ax.set_xlabel('date', fontdict={'fontsize': 15})\n",
    "ax.tick_params(labelsize=13, length=8)\n",
    "text = plt.title('Amout of incidence every day')\n",
    "text.set_fontsize(20)"
   ]
  },
  {
   "cell_type": "markdown",
   "metadata": {
    "deletable": true,
    "editable": true
   },
   "source": [
    "### 2013 is almost empty and should be ignored."
   ]
  },
  {
   "cell_type": "code",
   "execution_count": 24,
   "metadata": {
    "collapsed": false,
    "deletable": true,
    "editable": true
   },
   "outputs": [
    {
     "name": "stdout",
     "output_type": "stream",
     "text": [
      "In 2014 2001 unique websites were used\n",
      "In 2015 1900 unique websites were used\n",
      "In 2016 2197 unique websites were used\n",
      "In 2017 2429 unique websites were used\n",
      "In 2018 1450 unique websites were used\n"
     ]
    }
   ],
   "source": [
    "for year in range(2014, 2019):\n",
    "    print('In {} {} unique websites were used'\\\n",
    "          .format(year, df.loc[df['date'].dt.year == year, 'source_url']\\\n",
    "                  .str.split('//').str.get(1).str.replace('^www.','').str.split('/').str.get(0).nunique()))"
   ]
  },
  {
   "cell_type": "code",
   "execution_count": 25,
   "metadata": {
    "collapsed": false,
    "deletable": true,
    "editable": true
   },
   "outputs": [
    {
     "name": "stdout",
     "output_type": "stream",
     "text": [
      "In 2014 1310 websites with more than 1 incident are used\n",
      "In 2015 1256 websites with more than 1 incident are used\n",
      "In 2016 1515 websites with more than 1 incident are used\n",
      "In 2017 1715 websites with more than 1 incident are used\n",
      "In 2018 1026 websites with more than 1 incident are used\n"
     ]
    }
   ],
   "source": [
    "for year in range(2014, 2019):\n",
    "    print('In {} {} websites with more than 1 incident are used'\\\n",
    "          .format(year, (df.loc[df['date'].dt.year == year, 'source_url'].str.split('//')\\\n",
    "                  .str.get(1).str.replace('www.','').str.split('/').str.get(0)\\\n",
    "                  .value_counts() > 1).sum()))"
   ]
  },
  {
   "cell_type": "markdown",
   "metadata": {
    "deletable": true,
    "editable": true
   },
   "source": [
    "### We can see that amount of website where data is found is also increasing with time. "
   ]
  },
  {
   "cell_type": "code",
   "execution_count": 26,
   "metadata": {
    "collapsed": false,
    "deletable": true,
    "editable": true
   },
   "outputs": [
    {
     "data": {
      "text/plain": [
       "(0.9286527706898371, 0.07134722931016292)"
      ]
     },
     "execution_count": 26,
     "metadata": {},
     "output_type": "execute_result"
    }
   ],
   "source": [
    "amount = np.array([51854, 53579, 58763, 61401])\n",
    "year = np.array([2001, 1900, 2197, 2429])\n",
    "stats.pearsonr(amount, year)"
   ]
  },
  {
   "cell_type": "code",
   "execution_count": 27,
   "metadata": {
    "collapsed": false,
    "deletable": true,
    "editable": true
   },
   "outputs": [
    {
     "data": {
      "text/plain": [
       "(0.9534795845489521, 0.046520415451047896)"
      ]
     },
     "execution_count": 27,
     "metadata": {},
     "output_type": "execute_result"
    }
   ],
   "source": [
    "amount = np.array([51854, 53579, 58763, 61401])\n",
    "year = np.array([1310, 1256, 1515, 1715])\n",
    "stats.pearsonr(amount, year)"
   ]
  },
  {
   "cell_type": "markdown",
   "metadata": {
    "deletable": true,
    "editable": true
   },
   "source": [
    "### In both cases they highly correlated. But it doesn't mean that increasing of gun involved incidents can be explained by increasing of data sources."
   ]
  },
  {
   "cell_type": "code",
   "execution_count": null,
   "metadata": {
    "collapsed": true,
    "deletable": true,
    "editable": true
   },
   "outputs": [],
   "source": []
  },
  {
   "cell_type": "code",
   "execution_count": null,
   "metadata": {
    "collapsed": true,
    "deletable": true,
    "editable": true
   },
   "outputs": [],
   "source": []
  },
  {
   "cell_type": "markdown",
   "metadata": {
    "deletable": true,
    "editable": true
   },
   "source": [
    "# Work on participant features"
   ]
  },
  {
   "cell_type": "code",
   "execution_count": 41,
   "metadata": {
    "collapsed": false,
    "deletable": true,
    "editable": true
   },
   "outputs": [
    {
     "data": {
      "text/html": [
       "<div>\n",
       "<style scoped>\n",
       "    .dataframe tbody tr th:only-of-type {\n",
       "        vertical-align: middle;\n",
       "    }\n",
       "\n",
       "    .dataframe tbody tr th {\n",
       "        vertical-align: top;\n",
       "    }\n",
       "\n",
       "    .dataframe thead th {\n",
       "        text-align: right;\n",
       "    }\n",
       "</style>\n",
       "<table border=\"1\" class=\"dataframe\">\n",
       "  <thead>\n",
       "    <tr style=\"text-align: right;\">\n",
       "      <th></th>\n",
       "      <th>0</th>\n",
       "      <th>1</th>\n",
       "    </tr>\n",
       "    <tr>\n",
       "      <th>incident_id</th>\n",
       "      <th></th>\n",
       "      <th></th>\n",
       "    </tr>\n",
       "  </thead>\n",
       "  <tbody>\n",
       "    <tr>\n",
       "      <th>461105</th>\n",
       "      <td>0</td>\n",
       "      <td>20</td>\n",
       "    </tr>\n",
       "    <tr>\n",
       "      <th>460726</th>\n",
       "      <td>0</td>\n",
       "      <td>20</td>\n",
       "    </tr>\n",
       "    <tr>\n",
       "      <th>478855</th>\n",
       "      <td>0</td>\n",
       "      <td>25</td>\n",
       "    </tr>\n",
       "    <tr>\n",
       "      <th>478925</th>\n",
       "      <td>0</td>\n",
       "      <td>29</td>\n",
       "    </tr>\n",
       "    <tr>\n",
       "      <th>478959</th>\n",
       "      <td>0</td>\n",
       "      <td>18</td>\n",
       "    </tr>\n",
       "  </tbody>\n",
       "</table>\n",
       "</div>"
      ],
      "text/plain": [
       "             0   1\n",
       "incident_id       \n",
       "461105       0  20\n",
       "460726       0  20\n",
       "478855       0  25\n",
       "478925       0  29\n",
       "478959       0  18"
      ]
     },
     "execution_count": 41,
     "metadata": {},
     "output_type": "execute_result"
    }
   ],
   "source": [
    "df['participant_age'].head().str.extract('([\\d]*)::([\\d]*)', expand=True)"
   ]
  },
  {
   "cell_type": "code",
   "execution_count": null,
   "metadata": {
    "collapsed": true,
    "deletable": true,
    "editable": true
   },
   "outputs": [],
   "source": [
    "df['age_g_1']df['participant_age_group'].head().str.split('\\|\\|').str.get(3).str.replace('[\\d]*::', '')"
   ]
  },
  {
   "cell_type": "code",
   "execution_count": 64,
   "metadata": {
    "collapsed": false,
    "deletable": true,
    "editable": true
   },
   "outputs": [
    {
     "data": {
      "text/html": [
       "<div>\n",
       "<style scoped>\n",
       "    .dataframe tbody tr th:only-of-type {\n",
       "        vertical-align: middle;\n",
       "    }\n",
       "\n",
       "    .dataframe tbody tr th {\n",
       "        vertical-align: top;\n",
       "    }\n",
       "\n",
       "    .dataframe thead th {\n",
       "        text-align: right;\n",
       "    }\n",
       "</style>\n",
       "<table border=\"1\" class=\"dataframe\">\n",
       "  <thead>\n",
       "    <tr style=\"text-align: right;\">\n",
       "      <th></th>\n",
       "      <th>0</th>\n",
       "      <th>1</th>\n",
       "      <th>2</th>\n",
       "    </tr>\n",
       "    <tr>\n",
       "      <th>incident_id</th>\n",
       "      <th></th>\n",
       "      <th></th>\n",
       "      <th></th>\n",
       "    </tr>\n",
       "  </thead>\n",
       "  <tbody>\n",
       "    <tr>\n",
       "      <th>461105</th>\n",
       "      <td>Adult 18+</td>\n",
       "      <td>Adult 18+</td>\n",
       "      <td>Adult 18+</td>\n",
       "    </tr>\n",
       "    <tr>\n",
       "      <th>460726</th>\n",
       "      <td>Adult 18+</td>\n",
       "      <td>Adult 18+</td>\n",
       "      <td>Adult 18+</td>\n",
       "    </tr>\n",
       "    <tr>\n",
       "      <th>478855</th>\n",
       "      <td>Adult 18+</td>\n",
       "      <td>Adult 18+</td>\n",
       "      <td>Adult 18+</td>\n",
       "    </tr>\n",
       "    <tr>\n",
       "      <th>478925</th>\n",
       "      <td>Adult 18+</td>\n",
       "      <td>Adult 18+</td>\n",
       "      <td>Adult 18+</td>\n",
       "    </tr>\n",
       "    <tr>\n",
       "      <th>478959</th>\n",
       "      <td>NaN</td>\n",
       "      <td>NaN</td>\n",
       "      <td>NaN</td>\n",
       "    </tr>\n",
       "  </tbody>\n",
       "</table>\n",
       "</div>"
      ],
      "text/plain": [
       "                     0          1          2\n",
       "incident_id                                 \n",
       "461105       Adult 18+  Adult 18+  Adult 18+\n",
       "460726       Adult 18+  Adult 18+  Adult 18+\n",
       "478855       Adult 18+  Adult 18+  Adult 18+\n",
       "478925       Adult 18+  Adult 18+  Adult 18+\n",
       "478959             NaN        NaN        NaN"
      ]
     },
     "execution_count": 64,
     "metadata": {},
     "output_type": "execute_result"
    }
   ],
   "source": [
    "df['participant_age_group'].head().str\\\n",
    ".extract('[\\d]*::([\\d\\w +]*)\\|\\|[\\d]*::([\\d\\w +]*)\\|\\|[\\d]*::([\\d\\w +]*)\\|\\|', expand=True)"
   ]
  },
  {
   "cell_type": "code",
   "execution_count": 92,
   "metadata": {
    "collapsed": false,
    "deletable": true,
    "editable": true
   },
   "outputs": [
    {
     "data": {
      "text/plain": [
       "incident_id\n",
       "461105    Adult 18+\n",
       "460726    Adult 18+\n",
       "478855    Adult 18+\n",
       "478925    Adult 18+\n",
       "478959    Adult 18+\n",
       "Name: participant_age_group, dtype: object"
      ]
     },
     "execution_count": 92,
     "metadata": {},
     "output_type": "execute_result"
    }
   ],
   "source": [
    "df['participant_age_group'].head().str.split('\\|\\|').str.get(3).str.replace('[\\d]*::', '')"
   ]
  },
  {
   "cell_type": "code",
   "execution_count": 93,
   "metadata": {
    "collapsed": false,
    "deletable": true,
    "editable": true
   },
   "outputs": [
    {
     "data": {
      "text/plain": [
       "incident_id\n",
       "461105    Male\n",
       "460726     NaN\n",
       "478855    Male\n",
       "478925    Male\n",
       "478959    Male\n",
       "Name: participant_gender, dtype: object"
      ]
     },
     "execution_count": 93,
     "metadata": {},
     "output_type": "execute_result"
    }
   ],
   "source": [
    "df['participant_gender'].head().str.split('\\|\\|').str.get(2).str.replace('[\\d]*::', '')"
   ]
  },
  {
   "cell_type": "code",
   "execution_count": 82,
   "metadata": {
    "collapsed": false,
    "deletable": true,
    "editable": true
   },
   "outputs": [
    {
     "data": {
      "text/plain": [
       "incident_id\n",
       "461105    3::Injured\n",
       "460726    3::Injured\n",
       "478855    3::Injured\n",
       "478925     3::Killed\n",
       "478959     3::Killed\n",
       "Name: participant_status, dtype: object"
      ]
     },
     "execution_count": 82,
     "metadata": {},
     "output_type": "execute_result"
    }
   ],
   "source": [
    "df['participant_status'].head().str.split('\\|\\|').str.get(3)\n"
   ]
  },
  {
   "cell_type": "code",
   "execution_count": 70,
   "metadata": {
    "collapsed": false,
    "deletable": true,
    "editable": true
   },
   "outputs": [
    {
     "data": {
      "text/plain": [
       "Illinois          17556\n",
       "California        16306\n",
       "Florida           15029\n",
       "Texas             13577\n",
       "Ohio              10244\n",
       "New York           9712\n",
       "Pennsylvania       8929\n",
       "Georgia            8925\n",
       "North Carolina     8739\n",
       "Louisiana          8103\n",
       "Name: state, dtype: int64"
      ]
     },
     "execution_count": 70,
     "metadata": {},
     "output_type": "execute_result"
    }
   ],
   "source": [
    "df['state'].value_counts().iloc[:10]"
   ]
  },
  {
   "cell_type": "code",
   "execution_count": 17,
   "metadata": {
    "collapsed": false,
    "deletable": true,
    "editable": true
   },
   "outputs": [
    {
     "data": {
      "text/plain": [
       "Penn Valley    2\n",
       "Name: city_or_county, dtype: int64"
      ]
     },
     "execution_count": 17,
     "metadata": {},
     "output_type": "execute_result"
    }
   ],
   "source": [
    "df['city_or_county'].value_counts().loc[df['city_or_county'].value_counts().index == 'Penn Valley']"
   ]
  }
 ],
 "metadata": {
  "kernelspec": {
   "display_name": "Python 3",
   "language": "python",
   "name": "python3"
  },
  "language_info": {
   "codemirror_mode": {
    "name": "ipython",
    "version": 3
   },
   "file_extension": ".py",
   "mimetype": "text/x-python",
   "name": "python",
   "nbconvert_exporter": "python",
   "pygments_lexer": "ipython3",
   "version": "3.4.3"
  }
 },
 "nbformat": 4,
 "nbformat_minor": 2
}
